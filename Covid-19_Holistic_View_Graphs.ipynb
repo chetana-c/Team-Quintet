{
 "cells": [
  {
   "cell_type": "code",
   "execution_count": null,
   "metadata": {},
   "outputs": [],
   "source": [
    "# import libraries\n",
    "# ================\n",
    "\n",
    "# for date and time opeations\n",
    "from datetime import datetime\n",
    "# for file and folder operations\n",
    "import os\n",
    "# for regular expression opeations\n",
    "import re\n",
    "# for listing files in a folder\n",
    "import glob\n",
    "# for getting web contents\n",
    "import requests \n",
    "# storing and analysing data\n",
    "import pandas as pd\n",
    "# for scraping web contents\n",
    "from bs4 import BeautifulSoup\n",
    "import re"
   ]
  },
  {
   "cell_type": "code",
   "execution_count": null,
   "metadata": {},
   "outputs": [],
   "source": [
    "# get data\n",
    "# ========\n",
    "\n",
    "# link at which web data recides\n",
    "link = 'https://www.mohfw.gov.in/'\n",
    "# get web data\n",
    "req = requests.get(link)\n",
    "# parse web data\n",
    "soup = BeautifulSoup(req.content, \"html.parser\")"
   ]
  },
  {
   "cell_type": "code",
   "execution_count": null,
   "metadata": {},
   "outputs": [],
   "source": [
    "# find the table\n",
    "# ==============\n",
    "# our target table is the last table in the page\n",
    "\n",
    "# get the table head\n",
    "# table head may contain the column names, titles, subtitles\n",
    "thead = soup.find_all('thead')[-1]\n",
    "# print(thead)\n",
    "\n",
    "# get all the rows in table head\n",
    "# it usually have only one row, which has the column names\n",
    "head = thead.find_all('tr')\n",
    "# print(head)\n",
    "\n",
    "# get the table tbody\n",
    "# it contains the contents\n",
    "tbody = soup.find_all('tbody')[-1]\n",
    "# print(tbody)\n",
    "\n",
    "# get all the rows in table body\n",
    "# each row is each state's entry\n",
    "body = tbody.find_all('tr')\n",
    "# print(body)"
   ]
  },
  {
   "cell_type": "code",
   "execution_count": null,
   "metadata": {},
   "outputs": [],
   "source": [
    "# get the table contents\n",
    "# ======================\n",
    "\n",
    "# container for header rows / column title\n",
    "head_rows = []\n",
    "# container for table body / contents\n",
    "body_rows = []\n",
    "\n",
    "# loop through the head and append each row to head\n",
    "for tr in head:\n",
    "    td = tr.find_all(['th', 'td'])\n",
    "    row = [i.text for i in td]\n",
    "    head_rows.append(row)\n",
    "# print(head_rows)\n",
    "\n",
    "# loop through the body and append each row to body\n",
    "for tr in body:\n",
    "    td = tr.find_all(['th', 'td'])\n",
    "    row = [i.text for i in td]\n",
    "    body_rows.append(row)\n",
    "# print(head_rows)"
   ]
  },
  {
   "cell_type": "code",
   "execution_count": null,
   "metadata": {},
   "outputs": [],
   "source": [
    "\n",
    "# save contents in a dataframe\n",
    "# ============================\n",
    "    \n",
    "# skip last 3 rows, it contains unwanted info\n",
    "# head_rows contains column title\n",
    "df_bs = pd.DataFrame(body_rows[:len(body_rows)-6], \n",
    "                     columns=head_rows[0])         \n",
    "\n",
    "# Drop 'S. No.' column\n",
    "df_bs.drop('S. No.', axis=1, inplace=True)\n",
    "\n",
    "# there are 36 states+UT in India\n",
    "df_bs.head(36)\n",
    "\n",
    "df_bs=df_bs.rename(columns={\"Name of State / UT\": \"State\"}, errors=\"raise\")"
   ]
  },
  {
   "cell_type": "code",
   "execution_count": null,
   "metadata": {},
   "outputs": [],
   "source": [
    "\n",
    "# date-time information\n",
    "# =====================\n",
    "\n",
    "# today's date\n",
    "now  = datetime.now()\n",
    "# format date to month-day-year\n",
    "df_bs['Date'] = now.strftime(\"%m/%d/%Y\") \n",
    "\n",
    "# add 'Date' column to dataframe\n",
    "df_bs['Date'] = pd.to_datetime(df_bs['Date'], format='%m/%d/%Y')\n",
    "\n",
    "# df_bs.head(36)"
   ]
  },
  {
   "cell_type": "code",
   "execution_count": null,
   "metadata": {},
   "outputs": [],
   "source": [
    "\n",
    "# remove extra characters from 'Name of State/UT' column\n",
    "df_bs['State'] = df_bs['State'].str.replace('#', '')"
   ]
  },
  {
   "cell_type": "code",
   "execution_count": null,
   "metadata": {},
   "outputs": [],
   "source": [
    "# latitude and longitude information\n",
    "# ==================================\n",
    "\n",
    "# latitude of the states\n",
    "lat = {'Delhi':28.7041, 'Haryana':29.0588, 'Kerala':10.8505, 'Rajasthan':27.0238,\n",
    "       'Telengana':18.1124, 'Uttar Pradesh':26.8467, 'Ladakh':34.2996, 'Tamil Nadu':11.1271,\n",
    "       'Jammu and Kashmir':33.7782, 'Punjab':31.1471, 'Karnataka':15.3173, 'Maharashtra':19.7515,\n",
    "       'Andhra Pradesh':15.9129, 'Odisha':20.9517, 'Uttarakhand':30.0668, 'West Bengal':22.9868, \n",
    "       'Puducherry': 11.9416, 'Chandigarh': 30.7333, 'Chhattisgarh':21.2787, 'Gujarat': 22.2587, \n",
    "       'Himachal Pradesh': 31.1048, 'Madhya Pradesh': 22.9734, 'Bihar': 25.0961, 'Manipur':24.6637, \n",
    "       'Mizoram':23.1645, 'Goa': 15.2993, 'Andaman and Nicobar Islands': 11.7401, 'Assam' : 26.2006, \n",
    "       'Jharkhand': 23.6102, 'Arunachal Pradesh': 28.2180, 'Tripura': 23.9408, 'Nagaland': 26.1584, \n",
    "       'Meghalaya' : 25.4670, 'Dadar Nagar Haveli' : 20.1809, 'Sikkim':27.5330}\n",
    "\n",
    "# longitude of the states\n",
    "long = {'Delhi':77.1025, 'Haryana':76.0856, 'Kerala':76.2711, 'Rajasthan':74.2179,\n",
    "        'Telengana':79.0193, 'Uttar Pradesh':80.9462, 'Ladakh':78.2932, 'Tamil Nadu':78.6569,\n",
    "        'Jammu and Kashmir':76.5762, 'Punjab':75.3412, 'Karnataka':75.7139, 'Maharashtra':75.7139,\n",
    "        'Andhra Pradesh':79.7400, 'Odisha':85.0985, 'Uttarakhand':79.0193, 'West Bengal':87.8550, \n",
    "        'Puducherry': 79.8083, 'Chandigarh': 76.7794, 'Chhattisgarh':81.8661, 'Gujarat': 71.1924, \n",
    "        'Himachal Pradesh': 77.1734, 'Madhya Pradesh': 78.6569, 'Bihar': 85.3131, 'Manipur':93.9063, \n",
    "        'Mizoram':92.9376, 'Goa': 74.1240, 'Andaman and Nicobar Islands': 92.6586, 'Assam' : 92.9376, \n",
    "        'Jharkhand': 85.2799, 'Arunachal Pradesh': 94.7278, 'Tripura': 91.9882, 'Nagaland': 94.5624,\n",
    "        'Meghalaya' : 91.3662, 'Dadar Nagar Haveli' : 73.0169, 'Sikkim':88.5122}\n",
    "\n",
    "# add latitude column based on 'Name of State / UT' column\n",
    "df_bs['Latitude'] = df_bs['State'].map(lat)\n",
    "\n",
    "# add longitude column based on 'Name of State / UT' column\n",
    "df_bs['Longitude'] = df_bs['State'].map(long)\n"
   ]
  },
  {
   "cell_type": "code",
   "execution_count": null,
   "metadata": {},
   "outputs": [],
   "source": [
    "# read data\n",
    "# data about number of goverment hospitals and beds in hospital\n",
    "##df1 = pd.read_csv('https://raw.githubusercontent.com/souroy12/Hospital-Bed-Analysis/master/Number%20of%20Government%20Hospitals%20and%20Beds%20in%20Rural%20and%20Urban%20Areas.csv')\n",
    "# read data\n",
    "# data about number of goverment hospitals and beds in hospital\n",
    "df1 = pd.read_csv('datasets_Number of Hospitals and Beds in Public and Private Areas .csv')"
   ]
  },
  {
   "cell_type": "code",
   "execution_count": null,
   "metadata": {},
   "outputs": [],
   "source": [
    "combined_df=pd.merge(df_bs, df1, how='left')"
   ]
  },
  {
   "cell_type": "code",
   "execution_count": null,
   "metadata": {},
   "outputs": [],
   "source": [
    "combined_df = combined_df.drop(17)"
   ]
  },
  {
   "cell_type": "code",
   "execution_count": null,
   "metadata": {},
   "outputs": [],
   "source": [
    "combined_df=combined_df.rename(columns={\"Deaths**\": \"Deaths\"}, errors=\"raise\")\n",
    "combined_df=combined_df.rename(columns={\"Total Confirmed cases*\": \"Confirmed\"}, errors=\"raise\")\n",
    "combined_df=combined_df.rename(columns={\"Cured/Discharged/Migrated*\": \"Cured_Discharged_Migrated\"}, errors=\"raise\")\n",
    "combined_df=combined_df.rename(columns={\"Active Cases*\": \"Active\"}, errors=\"raise\")\n"
   ]
  },
  {
   "cell_type": "code",
   "execution_count": null,
   "metadata": {},
   "outputs": [],
   "source": [
    "#convert data types of numerical values into int\n",
    "combined_df[['Active','Deaths','Confirmed','Cured_Discharged_Migrated']]=combined_df[['Active','Deaths','Confirmed','Cured_Discharged_Migrated']].astype(int) "
   ]
  },
  {
   "cell_type": "code",
   "execution_count": 3,
   "metadata": {},
   "outputs": [
    {
     "name": "stdout",
     "output_type": "stream",
     "text": [
      "\u001b[1m \u001b[91m \u001b[4mCurrent Situation in India according www.mohfw.gov.in and this code will pull the latest data from this site through Web scraping\u001b[0m\n"
     ]
    }
   ],
   "source": [
    "class color:\n",
    "   PURPLE = '\\033[95m'\n",
    "   CYAN = '\\033[96m'\n",
    "   DARKCYAN = '\\033[36m'\n",
    "   BLUE = '\\033[94m'\n",
    "   GREEN = '\\033[92m'\n",
    "   YELLOW = '\\033[93m'\n",
    "   RED = '\\033[91m'\n",
    "   BOLD = '\\033[1m'\n",
    "   UNDERLINE = '\\033[4m'\n",
    "   END = '\\033[0m'\n",
    "\n",
    "print(color.BOLD,color.RED,color.UNDERLINE + 'Current Situation in India according www.mohfw.gov.in and this code will pull the latest data from this site through Web scraping' + color.END)\n"
   ]
  },
  {
   "cell_type": "code",
   "execution_count": null,
   "metadata": {},
   "outputs": [],
   "source": [
    "print('3D Statewise view for Cured/Discharged/Migrated, Deaths and Confirmed')"
   ]
  },
  {
   "cell_type": "code",
   "execution_count": null,
   "metadata": {},
   "outputs": [],
   "source": [
    "import plotly.express as px\n",
    "import numpy as np\n",
    "fig = px.scatter_3d(combined_df, x='Cured_Discharged_Migrated', y='Active', z='Deaths',size='Confirmed',  color='State')\n",
    "fig.update_layout(height=800, width=800,scene_zaxis_type=\"log\",scene_yaxis_type=\"log\",scene_xaxis_type=\"log\")\n",
    "fig.show()"
   ]
  },
  {
   "cell_type": "code",
   "execution_count": null,
   "metadata": {},
   "outputs": [],
   "source": [
    "import folium\n",
    "indiacovid = folium.Map(location=[20.5937,78.9629], zoom_start=5.4)\n",
    "for lat, lon,State,Death,Total_confirmed_cases in zip(combined_df['Latitude'], combined_df['Longitude'],combined_df['State'],combined_df['Deaths'],combined_df['Confirmed']):\n",
    "    folium.CircleMarker([lat, lon],\n",
    "                        radius=5,\n",
    "                        color='Green',\n",
    "                      popup =('State:' + str(State) + '<br>'\n",
    "                             'Total Confirmed cases:' + str(Total_confirmed_cases) + '<br>',\n",
    "                              'Death :' + str(Death) +'<br>'\n",
    "                             ),\n",
    "                        fill_color='Yellow',\n",
    "                        fill_opacity=0.7 ).add_to(indiacovid)\n",
    "    folium\n"
   ]
  },
  {
   "cell_type": "code",
   "execution_count": null,
   "metadata": {},
   "outputs": [],
   "source": [
    "print('Geographical & holistic view of  patients and beds availability across hospitals')"
   ]
  },
  {
   "cell_type": "code",
   "execution_count": null,
   "metadata": {},
   "outputs": [],
   "source": [
    "##import folium\n",
    "###indiacovid = folium.Map(location=[20.5937,78.9629], zoom_start=5.4)\n",
    "for i in range(0, len(combined_df)):\n",
    "   folium.Circle(\n",
    "        location=[combined_df.iloc[i]['Latitude'], combined_df.iloc[i]['Longitude']],\n",
    "        color='crimson', \n",
    "        tooltip =   '<li><bold>State : '+str(combined_df.iloc[i]['State'])+\n",
    "                    '<li><bold>Total Beds available : '+str(combined_df.iloc[i]['total_beds'])+\n",
    "                    '<li><bold>Total Beds available in private hospital : '+str(combined_df.iloc[i]['beds_private_sector'])+\n",
    "                    '<li><bold>Total Beds available in Public hospital : '+str(combined_df.iloc[i]['beds_ public_sector'])+\n",
    "                    '<li><bold>Total hospitals : '+str(combined_df.iloc[i]['total_hospitals'])+\n",
    "                    '<li><bold>Total Public hospitals : '+str(combined_df.iloc[i]['hospitals_ public_sector'])+\n",
    "                    '<li><bold>Total Private hospitals : '+str(combined_df.iloc[i]['hospitals_ private_sector'])+\n",
    "                    '<li><bold>Active cases : '+str(combined_df.iloc[i]['Active'])+\n",
    "                    '<li><bold>Deaths : '+str(combined_df.iloc[i]['Deaths'])+\n",
    "                    '<li><bold>Cured_Discharged_Migrated : '+str(combined_df.iloc[i]['Cured_Discharged_Migrated'])+\n",
    "                    '<li><bold>Total Confirmed : '+str(combined_df.iloc[i]['Confirmed']),\n",
    "        radius=int(combined_df.iloc[i]['Confirmed'])**1.1).add_to(indiacovid)\n",
    "indiacovid\n"
   ]
  },
  {
   "cell_type": "code",
   "execution_count": null,
   "metadata": {},
   "outputs": [],
   "source": [
    "print('Total Deaths,Active,Cured/Discharged/Migrated  as per each state')"
   ]
  },
  {
   "cell_type": "code",
   "execution_count": null,
   "metadata": {},
   "outputs": [],
   "source": [
    "import matplotlib.pyplot as plt\n",
    "%matplotlib inline\n",
    "plt.figure(figsize=(10,10))\n",
    "plt.barh(combined_df['State'],combined_df['Deaths'], label = 'Deaths')\n",
    "plt.barh(combined_df['State'],combined_df['Active'], label = 'Total Active')\n",
    "plt.barh(combined_df['State'],combined_df['Cured_Discharged_Migrated'], label = ' Total Cured/Discharged/Migrated')\n",
    "plt.ylabel('States')\n",
    "plt.xlabel('Confirmed')\n",
    "plt.legend()\n",
    "plt.show()"
   ]
  },
  {
   "cell_type": "code",
   "execution_count": null,
   "metadata": {},
   "outputs": [],
   "source": [
    "###Features. Select features\n",
    "##Dates. Filter train data from 2020-03-01 to 2020-03-18\n",
    "##Log transformation. Apply log transformation to ConfirmedCases and Fatalities\n",
    "##Infinites. Replace infinites from the logarithm with 0. Given the asymptotic behavior of the logarithm for log(0),this implies that when applying the inverse transformation (exponential) a 1 will be returned instead of a 0. This problem does not impact many countries, but still needs to be tackled sooner or later in order to obtain a clean solution.\n",
    "###Train/test split. Split into train/valid/test\n",
    "###Prediction. Linear Regression, training country by country and joining data\n",
    "###Submit. Submit results in the correct format, and applying exponential to reverse log transformation"
   ]
  },
  {
   "cell_type": "code",
   "execution_count": null,
   "metadata": {},
   "outputs": [],
   "source": [
    "combined_df_ml=combined_df"
   ]
  },
  {
   "cell_type": "code",
   "execution_count": null,
   "metadata": {},
   "outputs": [],
   "source": [
    "#Overall \n",
    "import plotly.graph_objs as go\n",
    "ac=   combined_df['Active'].sum()\n",
    "rvd = combined_df['Cured_Discharged_Migrated'].sum()\n",
    "dth = combined_df['Deaths'].sum()\n",
    "\n",
    "fig = go.Figure(data=[go.Pie(labels=['Active','Cured','Death'],\n",
    "                             values= [ac,rvd,dth],hole =.3)])\n",
    "fig.update_traces(hoverinfo='label+percent', textinfo='value', textfont_size=20,\n",
    "                  marker=dict(colors=['#263fa3', '#2fcc41','#cc3c2f'], line=dict(color='#FFFFFF', width=2)))\n",
    "fig.update_layout(title_text='Total overall cases',plot_bgcolor='rgb(275, 270, 273)')\n",
    "fig.show()"
   ]
  },
  {
   "cell_type": "code",
   "execution_count": null,
   "metadata": {},
   "outputs": [],
   "source": [
    "fig = plt.figure(figsize=(10,10))\n",
    "conf_per_country = combined_df.groupby('State')['Confirmed'].sum().sort_values(ascending=False)\n",
    "conf_sum=combined_df['Confirmed'].sum()\n",
    "def absolute_value(val):\n",
    "    a  = val\n",
    "    return (np.round(a,2))\n",
    "conf_per_country.plot(kind=\"pie\",title='Percentage of confirmed cases per state',autopct=absolute_value)\n",
    "\n",
    "plt.show ()"
   ]
  },
  {
   "cell_type": "code",
   "execution_count": null,
   "metadata": {},
   "outputs": [],
   "source": [
    "df2=combined_df.groupby('State')[['Cured_Discharged_Migrated','Deaths','Confirmed']].sum()"
   ]
  },
  {
   "cell_type": "code",
   "execution_count": null,
   "metadata": {},
   "outputs": [],
   "source": [
    "df2=df2.nlargest(20,'Confirmed')\n",
    "plt.figure(figsize=(20,10))\n",
    "plt.title('top 20 states with confirmed cases',fontsize=30)\n",
    "plt.xticks(rotation=90,fontsize=20)\n",
    "plt.yticks(fontsize=20)\n",
    "plt.xlabel('State',fontsize=20)\n",
    "plt.ylabel('Cases',fontsize=20)\n",
    "plt.plot(df2.index,df2.Confirmed,marker='o',mfc='black',label='Confirmed',markersize=10,linewidth=5)\n",
    "plt.plot(df2.index,df2.Deaths,marker='o',mfc='black',label='Deaths',markersize=10,linewidth=5)\n",
    "plt.plot(df2.index,df2.Cured_Discharged_Migrated,marker='o',mfc='black',label='Cured_Discharged_Migrated',markersize=10,linewidth=5,color='green')\n",
    "plt.legend(fontsize=20)"
   ]
  },
  {
   "cell_type": "code",
   "execution_count": null,
   "metadata": {},
   "outputs": [],
   "source": [
    "# read data\n",
    "# data about number of goverment hospitals and beds in hospital\n",
    "##df1 = pd.read_csv('https://raw.githubusercontent.com/souroy12/Hospital-Bed-Analysis/master/Number%20of%20Government%20Hospitals%20and%20Beds%20in%20Rural%20and%20Urban%20Areas.csv')\n",
    "# read data\n",
    "# data about number of goverment hospitals and beds in hospital\n",
    "combined_df_ml = pd.read_csv('datasets_covid_19_india.csv')"
   ]
  },
  {
   "cell_type": "code",
   "execution_count": null,
   "metadata": {},
   "outputs": [],
   "source": [
    "#country_data['GrowthFactor'] = growth_factor(country_data['Confirmed'])\n",
    "from scipy import optimize\n",
    "\n",
    "# we will want x_data to be the number of days since first confirmed and the y_data to be the confirmed data. This will be the data we use to fit a logistic curve\n",
    "x_data = range(len(combined_df_ml.index))\n",
    "y_data = combined_df_ml['Confirmed']\n",
    "\n",
    "def log_curve(x, k, x_0, ymax):\n",
    "    return ymax / (1 + np.exp(-k*(x-x_0)))\n",
    "\n",
    "# Fit the curve\n",
    "popt, pcov = optimize.curve_fit(log_curve, x_data, y_data, bounds=([0,0,0],np.inf), maxfev=50000)\n",
    "estimated_k, estimated_x_0, ymax= popt\n",
    "\n",
    "\n",
    "# Plot the fitted curve\n",
    "k = estimated_k\n",
    "x_0 = estimated_x_0\n",
    "y_fitted = log_curve(range(0,160), k, x_0, ymax)\n",
    "print(k, x_0, ymax)\n",
    "#print(y_fitted)\n",
    "##y_data.tail()"
   ]
  },
  {
   "cell_type": "code",
   "execution_count": null,
   "metadata": {},
   "outputs": [],
   "source": [
    "print('Growthfactor for confirmed cases')"
   ]
  },
  {
   "cell_type": "code",
   "execution_count": null,
   "metadata": {},
   "outputs": [],
   "source": [
    "# Plot everything for illustration\n",
    "fig = plt.figure()\n",
    "ax = fig.add_subplot(111)\n",
    "ax.plot(range(0,160), y_fitted, '--', label='fitted')\n",
    "ax.plot(x_data, y_data, 'o', label='Confirmed Data')"
   ]
  },
  {
   "cell_type": "code",
   "execution_count": null,
   "metadata": {},
   "outputs": [],
   "source": [
    "from sklearn import preprocessing\n",
    "lbl = preprocessing.LabelEncoder()\n",
    "combined_df_ml['State/UnionTerritory']=lbl.fit_transform(combined_df_ml['State/UnionTerritory'])"
   ]
  },
  {
   "cell_type": "code",
   "execution_count": null,
   "metadata": {},
   "outputs": [],
   "source": [
    "from sklearn.tree import DecisionTreeRegressor\n",
    "from sklearn.linear_model import LinearRegression\n",
    "from sklearn.ensemble import RandomForestClassifier\n",
    "from sklearn.model_selection import train_test_split\n",
    "import datetime\n",
    "from datetime import datetime\n",
    "from sklearn.metrics import accuracy_score\n",
    "from sklearn import metrics"
   ]
  },
  {
   "cell_type": "code",
   "execution_count": null,
   "metadata": {},
   "outputs": [],
   "source": [
    "x=combined_df_ml[['Deaths',]]\n",
    "y=combined_df_ml['Confirmed']\n",
    "x_train,x_test,y_train,y_test=train_test_split(x,y,test_size=0.2,random_state=0)"
   ]
  },
  {
   "cell_type": "code",
   "execution_count": null,
   "metadata": {},
   "outputs": [],
   "source": [
    "# Fitting Simple Linear Regression to the Training set\n",
    "from sklearn.linear_model import LinearRegression\n",
    "regressor = LinearRegression()\n",
    "regressor.fit(x_train, y_train)\n"
   ]
  },
  {
   "cell_type": "code",
   "execution_count": null,
   "metadata": {},
   "outputs": [],
   "source": [
    "# Predicting the Test set results\n",
    "y_pred = regressor.predict(x_test)"
   ]
  },
  {
   "cell_type": "code",
   "execution_count": null,
   "metadata": {},
   "outputs": [],
   "source": [
    "fig, ax = plt.subplots()\n",
    "ax.scatter(y_test, y_pred)\n",
    "ax.plot([y.min(), y.max()], [y.min(), y.max()], 'k--', lw=4)\n",
    "ax.set_xlabel('Measured Covid Cases ')\n",
    "ax.set_ylabel('Predicted Covid Cases')\n",
    "plt.title('Measured Vs Predicted Covid-19 cases')\n",
    "plt.show()\n",
    "print('Predicted Covid-19 cases per dealth')"
   ]
  }
 ],
 "metadata": {
  "kernelspec": {
   "display_name": "Python 3",
   "language": "python",
   "name": "python3"
  },
  "language_info": {
   "codemirror_mode": {
    "name": "ipython",
    "version": 3
   },
   "file_extension": ".py",
   "mimetype": "text/x-python",
   "name": "python",
   "nbconvert_exporter": "python",
   "pygments_lexer": "ipython3",
   "version": "3.6.10"
  }
 },
 "nbformat": 4,
 "nbformat_minor": 4
}
